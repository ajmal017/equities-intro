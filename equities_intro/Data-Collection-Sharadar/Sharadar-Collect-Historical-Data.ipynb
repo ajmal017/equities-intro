{
 "cells": [
  {
   "cell_type": "markdown",
   "metadata": {},
   "source": [
    "<img alt=\"QuantRocket logo\" src=\"https://www.quantrocket.com/assets/img/notebook-header-logo.png\">\n",
    "\n",
    "<a href=\"https://www.quantrocket.com/disclaimer/\">Disclaimer</a>"
   ]
  },
  {
   "cell_type": "markdown",
   "metadata": {},
   "source": [
    "# Collect Sharadar Historical Data\n",
    "\n",
    "To collect historical data from Sharadar, create a database called \"demo-stocks-1d\" tied to the \"sharadar\" vendor:"
   ]
  },
  {
   "cell_type": "code",
   "execution_count": 1,
   "metadata": {},
   "outputs": [
    {
     "data": {
      "text/plain": [
       "{'status': 'successfully created quantrocket.history.demo-stocks-1d.sqlite'}"
      ]
     },
     "execution_count": 1,
     "metadata": {},
     "output_type": "execute_result"
    }
   ],
   "source": [
    "from quantrocket.history import create_db\n",
    "create_db(\"demo-stocks-1d\", vendor=\"sharadar\")"
   ]
  },
  {
   "cell_type": "markdown",
   "metadata": {},
   "source": [
    "This creates an empty database. Next, we need to fill up the database with data. Data collection runs asynchronously (that is, in the background), so it's a good idea to open a terminal for flightlog if you haven't already done so in order to monitor the progress. In the terminal, fire up flightlog:\n",
    "\n",
    "```shell\n",
    "quantrocket flightlog stream\n",
    "```\n",
    "\n",
    "The data that will be collected depends on your Sharadar subscription. If you have no Sharadar subscription, sample data will be collected:"
   ]
  },
  {
   "cell_type": "code",
   "execution_count": 2,
   "metadata": {},
   "outputs": [
    {
     "data": {
      "text/plain": [
       "{'status': 'the historical data will be collected asynchronously'}"
      ]
     },
     "execution_count": 2,
     "metadata": {},
     "output_type": "execute_result"
    }
   ],
   "source": [
    "from quantrocket.history import collect_history\n",
    "collect_history(\"demo-stocks-1d\")"
   ]
  },
  {
   "cell_type": "markdown",
   "metadata": {},
   "source": [
    "QuantRocket first collects and saves the listings to the securities master database, then collects and saves the historical data to the history database that we just created. Use flightlog to monitor the progress:\n",
    "\n",
    "```\n",
    "quantrocket.history: INFO [demo-stocks-1d] Collecting updated Sharadar securities listings\n",
    "quantrocket.history: INFO [demo-stocks-1d] Saved 6 Sharadar SAMPLE listings to quantrocket.master.sharadar.sqlite\n",
    "quantrocket.history: INFO [demo-stocks-1d] Collecting all available SAMPLE history from Sharadar\n",
    "quantrocket.history: INFO [demo-stocks-1d] Saved 30146 total Sharadar records for 6 total securities to quantrocket.history.demo-stocks-1d.sqlite\n",
    "```"
   ]
  },
  {
   "cell_type": "markdown",
   "metadata": {},
   "source": [
    "***\n",
    "\n",
    "## *Next Up*\n",
    "\n",
    "Research and Backtesting Part 1: [Momentum Factor Research](../Part1-Momentum-Factor-Research.ipynb)"
   ]
  }
 ],
 "metadata": {
  "kernelspec": {
   "display_name": "Python 3",
   "language": "python",
   "name": "python3"
  },
  "language_info": {
   "codemirror_mode": {
    "name": "ipython",
    "version": 3
   },
   "file_extension": ".py",
   "mimetype": "text/x-python",
   "name": "python",
   "nbconvert_exporter": "python",
   "pygments_lexer": "ipython3",
   "version": "3.6.6"
  }
 },
 "nbformat": 4,
 "nbformat_minor": 2
}
