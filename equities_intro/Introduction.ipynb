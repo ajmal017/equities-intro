{
 "cells": [
  {
   "cell_type": "markdown",
   "metadata": {},
   "source": [
    "<img alt=\"QuantRocket logo\" src=\"https://www.quantrocket.com/assets/img/notebook-header-logo.png\">"
   ]
  },
  {
   "cell_type": "markdown",
   "metadata": {},
   "source": [
    "# Getting Started with Equities\n",
    "\n",
    "This tutorial shows you how to retrieve daily historical data for equities, analyze your data in a research notebook, and backtest an end-of-day cross-sectional momentum strategy using Moonshot.\n",
    "    \n",
    "**Data collection**\n",
    "\n",
    "* Part 1: [Collect Listings](Part1-Collect-Listings.ipynb)\n",
    "* Part 2: [Define a Universe](Part2-Define-Universe.ipynb)\n",
    "* Part 3: [Collect Historical Data](Part3-Collect-Historical-Data.ipynb)\n",
    "\n",
    "**Research and Backtesting**\n",
    "\n",
    "*Alphalens*\n",
    "\n",
    "* Part 4: [Momentum Factor Research](Part4-Momentum-Factor-Research.ipynb)\n",
    "\n",
    "*Moonshot*\n",
    "\n",
    "* Part 5: [Moonshot Strategy Code](Part5-Moonshot-Strategy-Code.ipynb)\n",
    "* Part 6: [Moonshot Backtest](Part6-Moonshot-Backtest.ipynb)\n",
    "* Part 7: [Moonshot Parameter Scans](Part7-Moonshot-Parameter-Scans.ipynb)"
   ]
  }
 ],
 "metadata": {
  "kernelspec": {
   "display_name": "Python 3",
   "language": "python",
   "name": "python3"
  },
  "language_info": {
   "codemirror_mode": {
    "name": "ipython",
    "version": 3
   },
   "file_extension": ".py",
   "mimetype": "text/x-python",
   "name": "python",
   "nbconvert_exporter": "python",
   "pygments_lexer": "ipython3",
   "version": "3.6.6"
  }
 },
 "nbformat": 4,
 "nbformat_minor": 2
}
