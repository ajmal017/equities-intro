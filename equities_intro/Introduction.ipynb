{
 "cells": [
  {
   "cell_type": "markdown",
   "metadata": {},
   "source": [
    "<img alt=\"QuantRocket logo\" src=\"https://www.quantrocket.com/assets/img/notebook-header-logo.png\">\n",
    "\n",
    "<a href=\"https://www.quantrocket.com/disclaimer/\">Disclaimer</a>"
   ]
  },
  {
   "cell_type": "markdown",
   "metadata": {},
   "source": [
    "# Getting Started with Equities\n",
    "\n",
    "This tutorial shows you how to retrieve daily historical data for equities, analyze your data in a research notebook, and backtest an end-of-day cross-sectional momentum strategy using Moonshot.\n",
    "\n",
    "You can use Interactive Brokers or Sharadar as the data source. Sample data is available.\n",
    "    \n",
    "**Data collection**\n",
    "\n",
    "* Option 1: [Sharadar data (sample or paid)](Data-Collection-Sharadar/Sharadar-Collect-Historical-Data.ipynb) (no QuantRocket or Sharadar subscription required for sample data)\n",
    "* Option 2: [Interactive Brokers sample data](Data-Collection-IB-Sample/PartA-Define-Universe.ipynb) (no QuantRocket subscription required but requires IB account and IB market data permissions) \n",
    "* Option 3: [Interactive Brokers data for an entire exchange](Data-Collection-IB-Exchange/PartA-Collect-Listings.ipynb) (requires IB account and IB market data permissions and QuantRocket subscription)\n",
    "\n",
    "**Research and Backtesting**\n",
    "\n",
    "*Research*\n",
    "\n",
    "* Part 1: [Momentum Factor Research](Part1-Momentum-Factor-Research.ipynb)\n",
    "\n",
    "*Moonshot*\n",
    "\n",
    "* Part 2: [Moonshot Strategy Code](Part2-Moonshot-Strategy-Code.ipynb)\n",
    "* Part 3: [Moonshot Backtest](Part3-Moonshot-Backtest.ipynb)\n",
    "* Part 4: [Moonshot Parameter Scans](Part4-Moonshot-Parameter-Scans.ipynb)"
   ]
  }
 ],
 "metadata": {
  "kernelspec": {
   "display_name": "Python 3",
   "language": "python",
   "name": "python3"
  },
  "language_info": {
   "codemirror_mode": {
    "name": "ipython",
    "version": 3
   },
   "file_extension": ".py",
   "mimetype": "text/x-python",
   "name": "python",
   "nbconvert_exporter": "python",
   "pygments_lexer": "ipython3",
   "version": "3.6.6"
  }
 },
 "nbformat": 4,
 "nbformat_minor": 2
}
