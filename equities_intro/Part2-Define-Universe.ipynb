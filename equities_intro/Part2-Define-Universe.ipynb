{
 "cells": [
  {
   "cell_type": "markdown",
   "metadata": {},
   "source": [
    "<img alt=\"QuantRocket logo\" src=\"https://www.quantrocket.com/assets/img/notebook-header-logo.png\">"
   ]
  },
  {
   "cell_type": "markdown",
   "metadata": {},
   "source": [
    "# Define a universe\n",
    "\n",
    "QuantRocket relies heavily on the concept of universes, which are user-defined groupings of securities. Universes provide a convenient way to refer to and manipulate groups of securities when collecting historical data, running a trading strategy, etc. You can create universes based on exchanges, security types, sectors, liquidity, or any criteria you like. A universe could consist of one or two securities or one or two thousand securities."
   ]
  },
  {
   "cell_type": "markdown",
   "metadata": {},
   "source": [
    "## Download master file\n",
    "To create our first universe, we will download a CSV of all the listings for our exchange, pare down the CSV to a smaller number of listings, then upload the pared down CSV to create our universe. The usage guide outlines [several other ways to create universes](https:www.quantrocket.com/docs/#universe).\n",
    "\n",
    "First download the listings from the securities master database to a CSV file (substituting your exchange for NASDAQ):"
   ]
  },
  {
   "cell_type": "code",
   "execution_count": 1,
   "metadata": {},
   "outputs": [],
   "source": [
    "from quantrocket.master import download_master_file\n",
    "download_master_file(\"securities.csv\", exchanges=\"NASDAQ\", sec_types=\"STK\")"
   ]
  },
  {
   "cell_type": "markdown",
   "metadata": {},
   "source": [
    "> In QuantRocket terminology, the word \"collect\" refers to retrieving data from IB and saving it to your QuantRocket databases. The word \"download\" refers to retrieving data out of your QuantRocket databases into a file for use by you or your algorithms.\n",
    "\n",
    "We can load the CSV into pandas:"
   ]
  },
  {
   "cell_type": "code",
   "execution_count": 2,
   "metadata": {},
   "outputs": [
    {
     "data": {
      "text/html": [
       "<div>\n",
       "<style scoped>\n",
       "    .dataframe tbody tr th:only-of-type {\n",
       "        vertical-align: middle;\n",
       "    }\n",
       "\n",
       "    .dataframe tbody tr th {\n",
       "        vertical-align: top;\n",
       "    }\n",
       "\n",
       "    .dataframe thead th {\n",
       "        text-align: right;\n",
       "    }\n",
       "</style>\n",
       "<table border=\"1\" class=\"dataframe\">\n",
       "  <thead>\n",
       "    <tr style=\"text-align: right;\">\n",
       "      <th></th>\n",
       "      <th>ConId</th>\n",
       "      <th>Symbol</th>\n",
       "      <th>Etf</th>\n",
       "      <th>SecType</th>\n",
       "      <th>PrimaryExchange</th>\n",
       "      <th>Currency</th>\n",
       "      <th>LocalSymbol</th>\n",
       "      <th>TradingClass</th>\n",
       "      <th>MarketName</th>\n",
       "      <th>LongName</th>\n",
       "      <th>...</th>\n",
       "      <th>UnderSymbol</th>\n",
       "      <th>UnderSecType</th>\n",
       "      <th>MarketRuleIds</th>\n",
       "      <th>Strike</th>\n",
       "      <th>Right</th>\n",
       "      <th>Cusip</th>\n",
       "      <th>EvRule</th>\n",
       "      <th>EvMultiplier</th>\n",
       "      <th>Delisted</th>\n",
       "      <th>DateDelisted</th>\n",
       "    </tr>\n",
       "  </thead>\n",
       "  <tbody>\n",
       "    <tr>\n",
       "      <th>0</th>\n",
       "      <td>4157</td>\n",
       "      <td>ADI</td>\n",
       "      <td>0</td>\n",
       "      <td>STK</td>\n",
       "      <td>NASDAQ</td>\n",
       "      <td>USD</td>\n",
       "      <td>ADI</td>\n",
       "      <td>NMS</td>\n",
       "      <td>NMS</td>\n",
       "      <td>ANALOG DEVICES INC</td>\n",
       "      <td>...</td>\n",
       "      <td>NaN</td>\n",
       "      <td>NaN</td>\n",
       "      <td>26,26,26,26,26,26,26,26,26,26,26,26,26,26,26,2...</td>\n",
       "      <td>0.0</td>\n",
       "      <td>NaN</td>\n",
       "      <td>ISIN:US0326541051</td>\n",
       "      <td>NaN</td>\n",
       "      <td>0.0</td>\n",
       "      <td>0</td>\n",
       "      <td>NaN</td>\n",
       "    </tr>\n",
       "    <tr>\n",
       "      <th>1</th>\n",
       "      <td>4391</td>\n",
       "      <td>AMD</td>\n",
       "      <td>0</td>\n",
       "      <td>STK</td>\n",
       "      <td>NASDAQ</td>\n",
       "      <td>USD</td>\n",
       "      <td>AMD</td>\n",
       "      <td>NMS</td>\n",
       "      <td>NMS</td>\n",
       "      <td>ADVANCED MICRO DEVICES</td>\n",
       "      <td>...</td>\n",
       "      <td>NaN</td>\n",
       "      <td>NaN</td>\n",
       "      <td>26,26,26,26,26,26,26,26,26,26,26,26,26,26,26,2...</td>\n",
       "      <td>0.0</td>\n",
       "      <td>NaN</td>\n",
       "      <td>ISIN:US0079031078</td>\n",
       "      <td>NaN</td>\n",
       "      <td>0.0</td>\n",
       "      <td>0</td>\n",
       "      <td>NaN</td>\n",
       "    </tr>\n",
       "    <tr>\n",
       "      <th>2</th>\n",
       "      <td>4661</td>\n",
       "      <td>ADP</td>\n",
       "      <td>0</td>\n",
       "      <td>STK</td>\n",
       "      <td>NASDAQ</td>\n",
       "      <td>USD</td>\n",
       "      <td>ADP</td>\n",
       "      <td>NMS</td>\n",
       "      <td>NMS</td>\n",
       "      <td>AUTOMATIC DATA PROCESSING</td>\n",
       "      <td>...</td>\n",
       "      <td>NaN</td>\n",
       "      <td>NaN</td>\n",
       "      <td>26,26,26,26,26,26,26,26,26,26,26,26,26,26,26,2...</td>\n",
       "      <td>0.0</td>\n",
       "      <td>NaN</td>\n",
       "      <td>ISIN:US0530151036</td>\n",
       "      <td>NaN</td>\n",
       "      <td>0.0</td>\n",
       "      <td>0</td>\n",
       "      <td>NaN</td>\n",
       "    </tr>\n",
       "    <tr>\n",
       "      <th>3</th>\n",
       "      <td>4691</td>\n",
       "      <td>AVT</td>\n",
       "      <td>0</td>\n",
       "      <td>STK</td>\n",
       "      <td>NASDAQ</td>\n",
       "      <td>USD</td>\n",
       "      <td>AVT</td>\n",
       "      <td>NMS</td>\n",
       "      <td>NMS</td>\n",
       "      <td>AVNET INC</td>\n",
       "      <td>...</td>\n",
       "      <td>NaN</td>\n",
       "      <td>NaN</td>\n",
       "      <td>26,26,26,26,26,26,26,26,26,26,26,26,26,26,26,2...</td>\n",
       "      <td>0.0</td>\n",
       "      <td>NaN</td>\n",
       "      <td>ISIN:US0538071038</td>\n",
       "      <td>NaN</td>\n",
       "      <td>0.0</td>\n",
       "      <td>0</td>\n",
       "      <td>NaN</td>\n",
       "    </tr>\n",
       "    <tr>\n",
       "      <th>4</th>\n",
       "      <td>5552</td>\n",
       "      <td>CDNS</td>\n",
       "      <td>0</td>\n",
       "      <td>STK</td>\n",
       "      <td>NASDAQ</td>\n",
       "      <td>USD</td>\n",
       "      <td>CDNS</td>\n",
       "      <td>NMS</td>\n",
       "      <td>NMS</td>\n",
       "      <td>CADENCE DESIGN SYS INC</td>\n",
       "      <td>...</td>\n",
       "      <td>NaN</td>\n",
       "      <td>NaN</td>\n",
       "      <td>26,26,26,26,26,26,26,26,26,26,26,26,26,26,26,2...</td>\n",
       "      <td>0.0</td>\n",
       "      <td>NaN</td>\n",
       "      <td>ISIN:US1273871087</td>\n",
       "      <td>NaN</td>\n",
       "      <td>0.0</td>\n",
       "      <td>0</td>\n",
       "      <td>NaN</td>\n",
       "    </tr>\n",
       "  </tbody>\n",
       "</table>\n",
       "<p>5 rows × 36 columns</p>\n",
       "</div>"
      ],
      "text/plain": [
       "   ConId Symbol  Etf SecType PrimaryExchange Currency LocalSymbol  \\\n",
       "0   4157    ADI    0     STK          NASDAQ      USD         ADI   \n",
       "1   4391    AMD    0     STK          NASDAQ      USD         AMD   \n",
       "2   4661    ADP    0     STK          NASDAQ      USD         ADP   \n",
       "3   4691    AVT    0     STK          NASDAQ      USD         AVT   \n",
       "4   5552   CDNS    0     STK          NASDAQ      USD        CDNS   \n",
       "\n",
       "  TradingClass MarketName                   LongName      ...       \\\n",
       "0          NMS        NMS         ANALOG DEVICES INC      ...        \n",
       "1          NMS        NMS     ADVANCED MICRO DEVICES      ...        \n",
       "2          NMS        NMS  AUTOMATIC DATA PROCESSING      ...        \n",
       "3          NMS        NMS                  AVNET INC      ...        \n",
       "4          NMS        NMS     CADENCE DESIGN SYS INC      ...        \n",
       "\n",
       "  UnderSymbol UnderSecType                                      MarketRuleIds  \\\n",
       "0         NaN          NaN  26,26,26,26,26,26,26,26,26,26,26,26,26,26,26,2...   \n",
       "1         NaN          NaN  26,26,26,26,26,26,26,26,26,26,26,26,26,26,26,2...   \n",
       "2         NaN          NaN  26,26,26,26,26,26,26,26,26,26,26,26,26,26,26,2...   \n",
       "3         NaN          NaN  26,26,26,26,26,26,26,26,26,26,26,26,26,26,26,2...   \n",
       "4         NaN          NaN  26,26,26,26,26,26,26,26,26,26,26,26,26,26,26,2...   \n",
       "\n",
       "  Strike Right              Cusip  EvRule  EvMultiplier  Delisted  \\\n",
       "0    0.0   NaN  ISIN:US0326541051     NaN           0.0         0   \n",
       "1    0.0   NaN  ISIN:US0079031078     NaN           0.0         0   \n",
       "2    0.0   NaN  ISIN:US0530151036     NaN           0.0         0   \n",
       "3    0.0   NaN  ISIN:US0538071038     NaN           0.0         0   \n",
       "4    0.0   NaN  ISIN:US1273871087     NaN           0.0         0   \n",
       "\n",
       "   DateDelisted  \n",
       "0           NaN  \n",
       "1           NaN  \n",
       "2           NaN  \n",
       "3           NaN  \n",
       "4           NaN  \n",
       "\n",
       "[5 rows x 36 columns]"
      ]
     },
     "execution_count": 2,
     "metadata": {},
     "output_type": "execute_result"
    }
   ],
   "source": [
    "import pandas as pd\n",
    "securities = pd.read_csv(\"securities.csv\")\n",
    "securities.head()"
   ]
  },
  {
   "cell_type": "markdown",
   "metadata": {},
   "source": [
    "Note the `ConId` column in the CSV file: ConId is short for \"contract ID\" and is IB's unique identifier for a particular security or contract. ConIds are used throughout QuantRocket to refer to securities."
   ]
  },
  {
   "cell_type": "markdown",
   "metadata": {},
   "source": [
    "## Filter master file\n",
    "\n",
    "QuantRocket supports working with large universes such as every stock on an exchange. However, for this introductory tutorial we will pare down the master file to create a modestly sized universe. This will keep the tutorial fast and simple as well as help illustrate the flexibility of universe creation; you can create larger universes later. \n",
    "\n",
    "To pare down the master file we'll use `qgrid`, a tool that provides Excel-like filtering and sorting of DataFrames inside Jupyter notebooks. We limit the number of columns to make the grid more readable:"
   ]
  },
  {
   "cell_type": "code",
   "execution_count": null,
   "metadata": {},
   "outputs": [],
   "source": [
    "import qgrid\n",
    "widget = qgrid.show_grid(securities[[\"ConId\",\"Symbol\",\"LongName\",\"Sector\",\"Industry\",\"Category\"]])\n",
    "widget"
   ]
  },
  {
   "cell_type": "markdown",
   "metadata": {},
   "source": [
    "> (this is an image of a grid, execute the above cell to see the actual grid)\n",
    "\n",
    "![QGrid widget](static/qgrid-widget.png)"
   ]
  },
  {
   "cell_type": "markdown",
   "metadata": {},
   "source": [
    "Use the grid to filter the DataFrame by symbol, name, or sector. You can hand-pick a list of symbols, select a sector and industry, or choose a random range of conids.\n",
    "\n",
    "When you've filtered the grid to a smaller size (say 50-100 securities), use `get_changed_df()` to access the filtered DataFrame:"
   ]
  },
  {
   "cell_type": "code",
   "execution_count": 4,
   "metadata": {},
   "outputs": [
    {
     "data": {
      "text/html": [
       "<div>\n",
       "<style scoped>\n",
       "    .dataframe tbody tr th:only-of-type {\n",
       "        vertical-align: middle;\n",
       "    }\n",
       "\n",
       "    .dataframe tbody tr th {\n",
       "        vertical-align: top;\n",
       "    }\n",
       "\n",
       "    .dataframe thead th {\n",
       "        text-align: right;\n",
       "    }\n",
       "</style>\n",
       "<table border=\"1\" class=\"dataframe\">\n",
       "  <thead>\n",
       "    <tr style=\"text-align: right;\">\n",
       "      <th></th>\n",
       "      <th>ConId</th>\n",
       "      <th>Symbol</th>\n",
       "      <th>LongName</th>\n",
       "      <th>Sector</th>\n",
       "      <th>Industry</th>\n",
       "      <th>Category</th>\n",
       "    </tr>\n",
       "  </thead>\n",
       "  <tbody>\n",
       "    <tr>\n",
       "      <th>24</th>\n",
       "      <td>265598</td>\n",
       "      <td>AAPL</td>\n",
       "      <td>APPLE INC</td>\n",
       "      <td>Technology</td>\n",
       "      <td>Computers</td>\n",
       "      <td>Computers</td>\n",
       "    </tr>\n",
       "    <tr>\n",
       "      <th>70</th>\n",
       "      <td>267892</td>\n",
       "      <td>COKE</td>\n",
       "      <td>COCA-COLA BOTTLING CO CONSOL</td>\n",
       "      <td>Consumer, Non-cyclical</td>\n",
       "      <td>Beverages</td>\n",
       "      <td>Beverages-Non-alcoholic</td>\n",
       "    </tr>\n",
       "    <tr>\n",
       "      <th>226</th>\n",
       "      <td>274105</td>\n",
       "      <td>SBUX</td>\n",
       "      <td>STARBUCKS CORP</td>\n",
       "      <td>Consumer, Cyclical</td>\n",
       "      <td>Retail</td>\n",
       "      <td>Retail-Restaurants</td>\n",
       "    </tr>\n",
       "    <tr>\n",
       "      <th>331</th>\n",
       "      <td>3691937</td>\n",
       "      <td>AMZN</td>\n",
       "      <td>AMAZON.COM INC</td>\n",
       "      <td>Communications</td>\n",
       "      <td>Internet</td>\n",
       "      <td>E-Commerce/Products</td>\n",
       "    </tr>\n",
       "    <tr>\n",
       "      <th>766</th>\n",
       "      <td>15124833</td>\n",
       "      <td>NFLX</td>\n",
       "      <td>NETFLIX INC</td>\n",
       "      <td>Communications</td>\n",
       "      <td>Internet</td>\n",
       "      <td>Internet Content-Entmnt</td>\n",
       "    </tr>\n",
       "  </tbody>\n",
       "</table>\n",
       "</div>"
      ],
      "text/plain": [
       "          ConId Symbol                      LongName                  Sector  \\\n",
       "24       265598   AAPL                     APPLE INC              Technology   \n",
       "70       267892   COKE  COCA-COLA BOTTLING CO CONSOL  Consumer, Non-cyclical   \n",
       "226      274105   SBUX                STARBUCKS CORP      Consumer, Cyclical   \n",
       "331     3691937   AMZN                AMAZON.COM INC          Communications   \n",
       "766    15124833   NFLX                   NETFLIX INC          Communications   \n",
       "989    39927629   EVEP         EV ENERGY PARTNERS LP                  Energy   \n",
       "1014   41498671   CSIQ            CANADIAN SOLAR INC                  Energy   \n",
       "2089  208813719  GOOGL             ALPHABET INC-CL A          Communications   \n",
       "\n",
       "                      Industry                  Category  \n",
       "24                   Computers                 Computers  \n",
       "70                   Beverages   Beverages-Non-alcoholic  \n",
       "226                     Retail        Retail-Restaurants  \n",
       "331                   Internet       E-Commerce/Products  \n",
       "766                   Internet   Internet Content-Entmnt  \n",
       "989                    Oil&Gas    Oil Comp-Explor&Prodtn  \n",
       "1014  Energy-Alternate Sources  Energy-Alternate Sources  \n",
       "2089                  Internet           Web Portals/ISP  "
      ]
     },
     "execution_count": 4,
     "metadata": {},
     "output_type": "execute_result"
    }
   ],
   "source": [
    "filtered_securities = widget.get_changed_df()\n",
    "filtered_securities.head()"
   ]
  },
  {
   "cell_type": "markdown",
   "metadata": {},
   "source": [
    "## Create universe\n",
    "\n",
    "To create a universe from the filtered securities, we write the DataFrame to a CSV and upload the CSV. (Only the ConId column in the CSV matters for this purpose; other columns are ignored.) We'll name the universe \"demo-stocks\":"
   ]
  },
  {
   "cell_type": "code",
   "execution_count": 5,
   "metadata": {},
   "outputs": [],
   "source": [
    "filtered_securities.to_csv(\"filtered_securities.csv\")"
   ]
  },
  {
   "cell_type": "code",
   "execution_count": 6,
   "metadata": {},
   "outputs": [
    {
     "data": {
      "text/plain": [
       "{'code': 'demo-stocks', 'provided': 60, 'inserted': 60, 'total_after_insert': 60}"
      ]
     },
     "execution_count": 6,
     "metadata": {},
     "output_type": "execute_result"
    }
   ],
   "source": [
    "from quantrocket.master import create_universe\n",
    "create_universe(\"demo-stocks\", infilepath_or_buffer=\"filtered_securities.csv\")"
   ]
  },
  {
   "cell_type": "markdown",
   "metadata": {},
   "source": [
    "The function output confirms the name and size of our new universe.\n",
    "\n",
    "Now that we have a universe, the next step is to collect historical data for our backtest."
   ]
  },
  {
   "cell_type": "markdown",
   "metadata": {},
   "source": [
    "***\n",
    "\n",
    "## *Next Up*\n",
    "\n",
    "Part 3: [Collect Historical Data](Part3-Collect-Historical-Data.ipynb)"
   ]
  }
 ],
 "metadata": {
  "kernelspec": {
   "display_name": "Python 3",
   "language": "python",
   "name": "python3"
  },
  "language_info": {
   "codemirror_mode": {
    "name": "ipython",
    "version": 3
   },
   "file_extension": ".py",
   "mimetype": "text/x-python",
   "name": "python",
   "nbconvert_exporter": "python",
   "pygments_lexer": "ipython3",
   "version": "3.6.6"
  }
 },
 "nbformat": 4,
 "nbformat_minor": 2
}
