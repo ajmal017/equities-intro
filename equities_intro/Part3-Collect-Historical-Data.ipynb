{
 "cells": [
  {
   "cell_type": "markdown",
   "metadata": {},
   "source": [
    "<img alt=\"QuantRocket logo\" src=\"https://www.quantrocket.com/assets/img/notebook-header-logo.png\">"
   ]
  },
  {
   "cell_type": "markdown",
   "metadata": {},
   "source": [
    "# Collect Historical Data\n",
    "\n",
    "> To obtain historical data from IB's API, you must first subscribe to the relevant market data through IB Account Management. See the [usage guide](https://www.quantrocket.com/p/docs/ib-market-data) for help.\n",
    "\n",
    "To collect historical data with QuantRocket, create a database that defines your historical data requirements, then fill it up with data. You can create as many databases as you need for your backtesting and trading.\n",
    "\n",
    "Let's retrieve 1-day bars for each stock in our universe. First, create an empty database called \"demo-stocks-1d\":"
   ]
  },
  {
   "cell_type": "code",
   "execution_count": 1,
   "metadata": {},
   "outputs": [
    {
     "data": {
      "text/plain": [
       "{'status': 'successfully created quantrocket.history.demo-stocks-1d.sqlite'}"
      ]
     },
     "execution_count": 1,
     "metadata": {},
     "output_type": "execute_result"
    }
   ],
   "source": [
    "from quantrocket.history import create_db\n",
    "create_db(\"demo-stocks-1d\", universes=\"demo-stocks\", bar_size=\"1 day\")"
   ]
  },
  {
   "cell_type": "markdown",
   "metadata": {},
   "source": [
    "Then, fill up the database with data from IB:"
   ]
  },
  {
   "cell_type": "code",
   "execution_count": 2,
   "metadata": {},
   "outputs": [
    {
     "data": {
      "text/plain": [
       "{'status': 'the historical data will be collected asynchronously'}"
      ]
     },
     "execution_count": 2,
     "metadata": {},
     "output_type": "execute_result"
    }
   ],
   "source": [
    "from quantrocket.history import collect_history\n",
    "collect_history(\"demo-stocks-1d\")"
   ]
  },
  {
   "cell_type": "markdown",
   "metadata": {},
   "source": [
    "QuantRocket will first query the IB API to determine how far back historical data is available for each security, then query the IB API again to collect the data for that date range. Depending on the number of securities in the universe, collecting end-of-day data can take from several minutes to several hours. Our modest-sized tutorial universe should only take a few minutes. \n",
    "\n",
    "Use flightlog to monitor the progress:\n",
    "\n",
    "\n",
    "```\n",
    "quantrocket.history: INFO [demo-stocks-1d] Collecting history from IB for demo-stocks-1d\n",
    "quantrocket.history: INFO [demo-stocks-1d] Saved 27499 total records for 60 total securities to quantrocket.history.demo-stocks-1d.sqlite\n",
    "```"
   ]
  },
  {
   "cell_type": "markdown",
   "metadata": {},
   "source": [
    "***\n",
    "\n",
    "## *Next Up*\n",
    "\n",
    "Part 4: [Momentum Factor Research](Part4-Momentum-Factor-Research.ipynb)"
   ]
  }
 ],
 "metadata": {
  "kernelspec": {
   "display_name": "Python 3",
   "language": "python",
   "name": "python3"
  },
  "language_info": {
   "codemirror_mode": {
    "name": "ipython",
    "version": 3
   },
   "file_extension": ".py",
   "mimetype": "text/x-python",
   "name": "python",
   "nbconvert_exporter": "python",
   "pygments_lexer": "ipython3",
   "version": "3.6.6"
  }
 },
 "nbformat": 4,
 "nbformat_minor": 2
}
