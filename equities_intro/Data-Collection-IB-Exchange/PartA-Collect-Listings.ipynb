{
 "cells": [
  {
   "cell_type": "markdown",
   "metadata": {},
   "source": [
    "<img alt=\"QuantRocket logo\" src=\"https://www.quantrocket.com/assets/img/notebook-header-logo.png\">\n",
    "\n",
    "<a href=\"https://www.quantrocket.com/disclaimer/\">Disclaimer</a>"
   ]
  },
  {
   "cell_type": "markdown",
   "metadata": {},
   "source": [
    "# IB Data Collection overview\n",
    "\n",
    "The data collection process consists of the following:\n",
    "\n",
    "1. collect listing details from IB for all securities on an exchange of your choosing\n",
    "2. create a \"universe\" of securities to use in your backtest\n",
    "3. collect historical price data for your universe\n",
    "\n",
    "This tutorial will use NASDAQ as an example, but you can select any stock exchange you're interested in. The tutorial will highlight the places where you should substitute the exchange you chose in place of NASDAQ."
   ]
  },
  {
   "cell_type": "markdown",
   "metadata": {},
   "source": [
    "# Collect listings\n",
    "\n",
    "The first step is to collect listing details from IB for your exchange. This step runs asynchronously (that is, in the background), so it's a good idea to open a terminal for flightlog if you haven't already done so in order to monitor the progress. In the terminal, fire up flightlog:\n",
    "\n",
    "```shell\n",
    "quantrocket flightlog stream\n",
    "```\n",
    "\n",
    "Now, start IB Gateway (the `wait=True` option will cause the command to wait until IB Gateway has finished starting so that you know when it's ready):"
   ]
  },
  {
   "cell_type": "code",
   "execution_count": 1,
   "metadata": {},
   "outputs": [
    {
     "data": {
      "text/plain": [
       "{'ibg1': {'status': 'running'}}"
      ]
     },
     "execution_count": 1,
     "metadata": {},
     "output_type": "execute_result"
    }
   ],
   "source": [
    "from quantrocket.launchpad import start_gateways\n",
    "start_gateways(wait=True)"
   ]
  },
  {
   "cell_type": "markdown",
   "metadata": {},
   "source": [
    "Now, you're ready to collect all stock listings for your exchange (substitute your exchange code for NASDAQ):"
   ]
  },
  {
   "cell_type": "code",
   "execution_count": 2,
   "metadata": {},
   "outputs": [
    {
     "data": {
      "text/plain": [
       "{'status': 'the listing details will be collected asynchronously'}"
      ]
     },
     "execution_count": 2,
     "metadata": {},
     "output_type": "execute_result"
    }
   ],
   "source": [
    "from quantrocket.master import collect_listings\n",
    "collect_listings(exchanges=\"NASDAQ\", sec_types=\"STK\")"
   ]
  },
  {
   "cell_type": "markdown",
   "metadata": {},
   "source": [
    "QuantRocket uses the IB website to collect all symbols for the requested exchange then collects contract details from the IB API. In your flightlog terminal, you can monitor the progress. Depending on the number of listings, collecting the listing details might take a few minutes. QuantRocket will try to estimate how long it will take:\n",
    "\n",
    "```\n",
    "quantrocket.master: INFO Collecting NASDAQ STK listings from IB website\n",
    "quantrocket.master: INFO Requesting details for 3152 NASDAQ listings found on IB website (expected runtime: 0:03:09)\n",
    "quantrocket.master: INFO Saved 3151 NASDAQ listings to securities master database\n",
    "```\n",
    "\n",
    "In this example, we can see that 3,151 NASDAQ listings were saved to the securities master database.\n",
    "\n",
    "> The number of listings collected from the IB website might be larger than the number of listings actually saved to the database. This is because the IB website lists all symbols that trade on a given exchange, even if the exchange is not the primary listing exchange. For example, the primary listing exchange for Alcoa (AA) is NYSE, but the IB website also lists Alcoa under the BATS exchange because Alcoa also trades on BATS (and many other US exchanges). QuantRocket downloads and saves Alcoa's contract details when you collect NYSE listings, not when you collect BATS listings."
   ]
  },
  {
   "cell_type": "markdown",
   "metadata": {},
   "source": [
    "***\n",
    "\n",
    "## *Next Up*\n",
    "\n",
    "Part B: [Define a Universe](PartB-Define-Universe.ipynb)"
   ]
  }
 ],
 "metadata": {
  "kernelspec": {
   "display_name": "Python 3",
   "language": "python",
   "name": "python3"
  },
  "language_info": {
   "codemirror_mode": {
    "name": "ipython",
    "version": 3
   },
   "file_extension": ".py",
   "mimetype": "text/x-python",
   "name": "python",
   "nbconvert_exporter": "python",
   "pygments_lexer": "ipython3",
   "version": "3.6.6"
  }
 },
 "nbformat": 4,
 "nbformat_minor": 2
}
