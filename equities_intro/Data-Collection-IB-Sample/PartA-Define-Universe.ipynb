{
 "cells": [
  {
   "cell_type": "markdown",
   "metadata": {},
   "source": [
    "<img alt=\"QuantRocket logo\" src=\"https://www.quantrocket.com/assets/img/notebook-header-logo.png\">\n",
    "\n",
    "<a href=\"https://www.quantrocket.com/disclaimer/\">Disclaimer</a>"
   ]
  },
  {
   "cell_type": "markdown",
   "metadata": {},
   "source": [
    "# IB Sample Data Collection overview\n",
    "\n",
    "IB sample data listings are pre-loaded in the securities master database. Therefore, the data collection process consists of the following:\n",
    "\n",
    "1. create a \"universe\" of sample securities to use in your backtest\n",
    "2. collect historical price data for your universe\n",
    "\n",
    "# Define a universe\n",
    "\n",
    "QuantRocket relies heavily on the concept of universes, which are user-defined groupings of securities. Universes provide a convenient way to refer to and manipulate groups of securities when collecting historical data, running a trading strategy, etc. You can create universes based on exchanges, security types, sectors, liquidity, or any criteria you like. A universe could consist of one or two securities or one or two thousand securities."
   ]
  },
  {
   "cell_type": "markdown",
   "metadata": {},
   "source": [
    "## Download master file\n",
    "To create our first universe, we will download a CSV of all sample stock listings for all exchanges, pare down the CSV to US stock listings, then upload the pared down CSV to create our universe.\n",
    "\n",
    "First download the listings from the securities master database to a CSV file:"
   ]
  },
  {
   "cell_type": "code",
   "execution_count": 1,
   "metadata": {},
   "outputs": [],
   "source": [
    "from quantrocket.master import download_master_file\n",
    "download_master_file(\"securities.csv\", sec_types=\"STK\")"
   ]
  },
  {
   "cell_type": "markdown",
   "metadata": {},
   "source": [
    "> In QuantRocket terminology, the word \"collect\" refers to retrieving data from IB and saving it to your QuantRocket databases. The word \"download\" refers to retrieving data out of your QuantRocket databases into a file for use by you or your algorithms.\n",
    "\n",
    "We can load the CSV into pandas:"
   ]
  },
  {
   "cell_type": "code",
   "execution_count": 2,
   "metadata": {},
   "outputs": [
    {
     "data": {
      "text/html": [
       "<div>\n",
       "<style scoped>\n",
       "    .dataframe tbody tr th:only-of-type {\n",
       "        vertical-align: middle;\n",
       "    }\n",
       "\n",
       "    .dataframe tbody tr th {\n",
       "        vertical-align: top;\n",
       "    }\n",
       "\n",
       "    .dataframe thead th {\n",
       "        text-align: right;\n",
       "    }\n",
       "</style>\n",
       "<table border=\"1\" class=\"dataframe\">\n",
       "  <thead>\n",
       "    <tr style=\"text-align: right;\">\n",
       "      <th></th>\n",
       "      <th>ConId</th>\n",
       "      <th>Symbol</th>\n",
       "      <th>Etf</th>\n",
       "      <th>SecType</th>\n",
       "      <th>PrimaryExchange</th>\n",
       "      <th>Currency</th>\n",
       "      <th>LocalSymbol</th>\n",
       "      <th>TradingClass</th>\n",
       "      <th>MarketName</th>\n",
       "      <th>LongName</th>\n",
       "      <th>...</th>\n",
       "      <th>UnderSymbol</th>\n",
       "      <th>UnderSecType</th>\n",
       "      <th>MarketRuleIds</th>\n",
       "      <th>Strike</th>\n",
       "      <th>Right</th>\n",
       "      <th>Cusip</th>\n",
       "      <th>EvRule</th>\n",
       "      <th>EvMultiplier</th>\n",
       "      <th>Delisted</th>\n",
       "      <th>DateDelisted</th>\n",
       "    </tr>\n",
       "  </thead>\n",
       "  <tbody>\n",
       "    <tr>\n",
       "      <th>0</th>\n",
       "      <td>8719</td>\n",
       "      <td>JNJ</td>\n",
       "      <td>0</td>\n",
       "      <td>STK</td>\n",
       "      <td>NYSE</td>\n",
       "      <td>USD</td>\n",
       "      <td>JNJ</td>\n",
       "      <td>JNJ</td>\n",
       "      <td>JNJ</td>\n",
       "      <td>JOHNSON &amp; JOHNSON</td>\n",
       "      <td>...</td>\n",
       "      <td>NaN</td>\n",
       "      <td>NaN</td>\n",
       "      <td>26,26,26,26,26,26,26,26,26,26,26,26,26,26,26,2...</td>\n",
       "      <td>0.0</td>\n",
       "      <td>NaN</td>\n",
       "      <td>ISIN:US4781601046</td>\n",
       "      <td>NaN</td>\n",
       "      <td>0.0</td>\n",
       "      <td>0</td>\n",
       "      <td>NaN</td>\n",
       "    </tr>\n",
       "    <tr>\n",
       "      <th>1</th>\n",
       "      <td>13977</td>\n",
       "      <td>XOM</td>\n",
       "      <td>0</td>\n",
       "      <td>STK</td>\n",
       "      <td>NYSE</td>\n",
       "      <td>USD</td>\n",
       "      <td>XOM</td>\n",
       "      <td>XOM</td>\n",
       "      <td>XOM</td>\n",
       "      <td>EXXON MOBIL CORP</td>\n",
       "      <td>...</td>\n",
       "      <td>NaN</td>\n",
       "      <td>NaN</td>\n",
       "      <td>26,26,26,26,26,26,26,26,26,26,26,26,26,26,26,2...</td>\n",
       "      <td>0.0</td>\n",
       "      <td>NaN</td>\n",
       "      <td>ISIN:US30231G1022</td>\n",
       "      <td>NaN</td>\n",
       "      <td>0.0</td>\n",
       "      <td>0</td>\n",
       "      <td>NaN</td>\n",
       "    </tr>\n",
       "    <tr>\n",
       "      <th>2</th>\n",
       "      <td>228891</td>\n",
       "      <td>BP.</td>\n",
       "      <td>0</td>\n",
       "      <td>STK</td>\n",
       "      <td>LSE</td>\n",
       "      <td>GBP</td>\n",
       "      <td>BP.</td>\n",
       "      <td>BP.</td>\n",
       "      <td>BP.</td>\n",
       "      <td>BP PLC</td>\n",
       "      <td>...</td>\n",
       "      <td>NaN</td>\n",
       "      <td>NaN</td>\n",
       "      <td>1919,1919,1919,1919,1919</td>\n",
       "      <td>0.0</td>\n",
       "      <td>NaN</td>\n",
       "      <td>ISIN:GB0007980591</td>\n",
       "      <td>NaN</td>\n",
       "      <td>0.0</td>\n",
       "      <td>0</td>\n",
       "      <td>NaN</td>\n",
       "    </tr>\n",
       "    <tr>\n",
       "      <th>3</th>\n",
       "      <td>265598</td>\n",
       "      <td>AAPL</td>\n",
       "      <td>0</td>\n",
       "      <td>STK</td>\n",
       "      <td>NASDAQ</td>\n",
       "      <td>USD</td>\n",
       "      <td>AAPL</td>\n",
       "      <td>NMS</td>\n",
       "      <td>NMS</td>\n",
       "      <td>APPLE INC</td>\n",
       "      <td>...</td>\n",
       "      <td>NaN</td>\n",
       "      <td>NaN</td>\n",
       "      <td>26,26,26,26,26,26,26,26,26,26,26,26,26,26,26,2...</td>\n",
       "      <td>0.0</td>\n",
       "      <td>NaN</td>\n",
       "      <td>ISIN:US0378331005</td>\n",
       "      <td>NaN</td>\n",
       "      <td>0.0</td>\n",
       "      <td>0</td>\n",
       "      <td>NaN</td>\n",
       "    </tr>\n",
       "    <tr>\n",
       "      <th>4</th>\n",
       "      <td>272093</td>\n",
       "      <td>MSFT</td>\n",
       "      <td>0</td>\n",
       "      <td>STK</td>\n",
       "      <td>NASDAQ</td>\n",
       "      <td>USD</td>\n",
       "      <td>MSFT</td>\n",
       "      <td>NMS</td>\n",
       "      <td>NMS</td>\n",
       "      <td>MICROSOFT CORP</td>\n",
       "      <td>...</td>\n",
       "      <td>NaN</td>\n",
       "      <td>NaN</td>\n",
       "      <td>26,26,26,26,26,26,26,26,26,26,26,26,26,26,26,2...</td>\n",
       "      <td>0.0</td>\n",
       "      <td>NaN</td>\n",
       "      <td>ISIN:US5949181045</td>\n",
       "      <td>NaN</td>\n",
       "      <td>0.0</td>\n",
       "      <td>0</td>\n",
       "      <td>NaN</td>\n",
       "    </tr>\n",
       "  </tbody>\n",
       "</table>\n",
       "<p>5 rows × 36 columns</p>\n",
       "</div>"
      ],
      "text/plain": [
       "    ConId Symbol  Etf SecType PrimaryExchange Currency LocalSymbol  \\\n",
       "0    8719    JNJ    0     STK            NYSE      USD         JNJ   \n",
       "1   13977    XOM    0     STK            NYSE      USD         XOM   \n",
       "2  228891    BP.    0     STK             LSE      GBP         BP.   \n",
       "3  265598   AAPL    0     STK          NASDAQ      USD        AAPL   \n",
       "4  272093   MSFT    0     STK          NASDAQ      USD        MSFT   \n",
       "\n",
       "  TradingClass MarketName           LongName      ...      UnderSymbol  \\\n",
       "0          JNJ        JNJ  JOHNSON & JOHNSON      ...              NaN   \n",
       "1          XOM        XOM   EXXON MOBIL CORP      ...              NaN   \n",
       "2          BP.        BP.             BP PLC      ...              NaN   \n",
       "3          NMS        NMS          APPLE INC      ...              NaN   \n",
       "4          NMS        NMS     MICROSOFT CORP      ...              NaN   \n",
       "\n",
       "  UnderSecType                                      MarketRuleIds Strike  \\\n",
       "0          NaN  26,26,26,26,26,26,26,26,26,26,26,26,26,26,26,2...    0.0   \n",
       "1          NaN  26,26,26,26,26,26,26,26,26,26,26,26,26,26,26,2...    0.0   \n",
       "2          NaN                           1919,1919,1919,1919,1919    0.0   \n",
       "3          NaN  26,26,26,26,26,26,26,26,26,26,26,26,26,26,26,2...    0.0   \n",
       "4          NaN  26,26,26,26,26,26,26,26,26,26,26,26,26,26,26,2...    0.0   \n",
       "\n",
       "  Right              Cusip  EvRule  EvMultiplier  Delisted  DateDelisted  \n",
       "0   NaN  ISIN:US4781601046     NaN           0.0         0           NaN  \n",
       "1   NaN  ISIN:US30231G1022     NaN           0.0         0           NaN  \n",
       "2   NaN  ISIN:GB0007980591     NaN           0.0         0           NaN  \n",
       "3   NaN  ISIN:US0378331005     NaN           0.0         0           NaN  \n",
       "4   NaN  ISIN:US5949181045     NaN           0.0         0           NaN  \n",
       "\n",
       "[5 rows x 36 columns]"
      ]
     },
     "execution_count": 2,
     "metadata": {},
     "output_type": "execute_result"
    }
   ],
   "source": [
    "import pandas as pd\n",
    "securities = pd.read_csv(\"securities.csv\")\n",
    "securities.head()"
   ]
  },
  {
   "cell_type": "markdown",
   "metadata": {},
   "source": [
    "Note the `ConId` column in the CSV file: ConId is short for \"contract ID\" and is IB's unique identifier for a particular security or contract. ConIds are used throughout QuantRocket to refer to securities."
   ]
  },
  {
   "cell_type": "markdown",
   "metadata": {},
   "source": [
    "## Filter master file\n",
    "\n",
    "QuantRocket supports working with large universes such as every stock on an exchange. However, for this introductory tutorial we will pare down the master file of sample data to US stock listings. This will help illustrate the flexibility of universe creation (and will also simplify the IB market data permissions required to collect historical data). \n",
    "\n",
    "To pare down the master file we'll use `qgrid`, a tool that provides Excel-like filtering and sorting of DataFrames inside Jupyter notebooks. We limit the number of columns to make the grid more readable:"
   ]
  },
  {
   "cell_type": "code",
   "execution_count": null,
   "metadata": {},
   "outputs": [],
   "source": [
    "import qgrid\n",
    "widget = qgrid.show_grid(securities[[\"ConId\",\"PrimaryExchange\",\"Symbol\",\"LongName\",\"Sector\",\"Industry\",\"Category\"]])\n",
    "widget"
   ]
  },
  {
   "cell_type": "markdown",
   "metadata": {},
   "source": [
    "> (this is an image of a grid, execute the above cell to see the actual grid)\n",
    "\n",
    "![QGrid widget](../static/qgrid-widget.png)"
   ]
  },
  {
   "cell_type": "markdown",
   "metadata": {},
   "source": [
    "Use the grid above to filter the DataFrame to NYSE and NASDAQ sample stocks. Then use `get_changed_df()` to access the filtered DataFrame:"
   ]
  },
  {
   "cell_type": "code",
   "execution_count": 4,
   "metadata": {},
   "outputs": [
    {
     "data": {
      "text/html": [
       "<div>\n",
       "<style scoped>\n",
       "    .dataframe tbody tr th:only-of-type {\n",
       "        vertical-align: middle;\n",
       "    }\n",
       "\n",
       "    .dataframe tbody tr th {\n",
       "        vertical-align: top;\n",
       "    }\n",
       "\n",
       "    .dataframe thead th {\n",
       "        text-align: right;\n",
       "    }\n",
       "</style>\n",
       "<table border=\"1\" class=\"dataframe\">\n",
       "  <thead>\n",
       "    <tr style=\"text-align: right;\">\n",
       "      <th></th>\n",
       "      <th>ConId</th>\n",
       "      <th>PrimaryExchange</th>\n",
       "      <th>Symbol</th>\n",
       "      <th>LongName</th>\n",
       "      <th>Sector</th>\n",
       "      <th>Industry</th>\n",
       "      <th>Category</th>\n",
       "    </tr>\n",
       "  </thead>\n",
       "  <tbody>\n",
       "    <tr>\n",
       "      <th>0</th>\n",
       "      <td>8719</td>\n",
       "      <td>NYSE</td>\n",
       "      <td>JNJ</td>\n",
       "      <td>JOHNSON &amp; JOHNSON</td>\n",
       "      <td>Consumer, Non-cyclical</td>\n",
       "      <td>Pharmaceuticals</td>\n",
       "      <td>Medical-Drugs</td>\n",
       "    </tr>\n",
       "    <tr>\n",
       "      <th>1</th>\n",
       "      <td>13977</td>\n",
       "      <td>NYSE</td>\n",
       "      <td>XOM</td>\n",
       "      <td>EXXON MOBIL CORP</td>\n",
       "      <td>Energy</td>\n",
       "      <td>Oil&amp;Gas</td>\n",
       "      <td>Oil Comp-Integrated</td>\n",
       "    </tr>\n",
       "    <tr>\n",
       "      <th>3</th>\n",
       "      <td>265598</td>\n",
       "      <td>NASDAQ</td>\n",
       "      <td>AAPL</td>\n",
       "      <td>APPLE INC</td>\n",
       "      <td>Technology</td>\n",
       "      <td>Computers</td>\n",
       "      <td>Computers</td>\n",
       "    </tr>\n",
       "    <tr>\n",
       "      <th>4</th>\n",
       "      <td>272093</td>\n",
       "      <td>NASDAQ</td>\n",
       "      <td>MSFT</td>\n",
       "      <td>MICROSOFT CORP</td>\n",
       "      <td>Technology</td>\n",
       "      <td>Software</td>\n",
       "      <td>Applications Software</td>\n",
       "    </tr>\n",
       "  </tbody>\n",
       "</table>\n",
       "</div>"
      ],
      "text/plain": [
       "    ConId PrimaryExchange Symbol           LongName                  Sector  \\\n",
       "0    8719            NYSE    JNJ  JOHNSON & JOHNSON  Consumer, Non-cyclical   \n",
       "1   13977            NYSE    XOM   EXXON MOBIL CORP                  Energy   \n",
       "3  265598          NASDAQ   AAPL          APPLE INC              Technology   \n",
       "4  272093          NASDAQ   MSFT     MICROSOFT CORP              Technology   \n",
       "\n",
       "          Industry               Category  \n",
       "0  Pharmaceuticals          Medical-Drugs  \n",
       "1          Oil&Gas    Oil Comp-Integrated  \n",
       "3        Computers              Computers  \n",
       "4         Software  Applications Software  "
      ]
     },
     "execution_count": 4,
     "metadata": {},
     "output_type": "execute_result"
    }
   ],
   "source": [
    "filtered_securities = widget.get_changed_df()\n",
    "filtered_securities.head()"
   ]
  },
  {
   "cell_type": "markdown",
   "metadata": {},
   "source": [
    "## Create universe\n",
    "\n",
    "To create a universe from the filtered securities, we write the DataFrame to a CSV and upload the CSV. (Only the ConId column in the CSV matters for this purpose; other columns are ignored.) We'll name the universe \"demo-stocks\":"
   ]
  },
  {
   "cell_type": "code",
   "execution_count": 5,
   "metadata": {},
   "outputs": [],
   "source": [
    "filtered_securities.to_csv(\"filtered_securities.csv\")"
   ]
  },
  {
   "cell_type": "code",
   "execution_count": 6,
   "metadata": {},
   "outputs": [
    {
     "data": {
      "text/plain": [
       "{'code': 'demo-stocks', 'provided': 4, 'inserted': 4, 'total_after_insert': 4}"
      ]
     },
     "execution_count": 6,
     "metadata": {},
     "output_type": "execute_result"
    }
   ],
   "source": [
    "from quantrocket.master import create_universe\n",
    "create_universe(\"demo-stocks\", infilepath_or_buffer=\"filtered_securities.csv\")"
   ]
  },
  {
   "cell_type": "markdown",
   "metadata": {},
   "source": [
    "The function output confirms the name and size of our new universe.\n",
    "\n",
    "Now that we have a universe, the next step is to collect historical data for our backtest."
   ]
  },
  {
   "cell_type": "markdown",
   "metadata": {},
   "source": [
    "***\n",
    "\n",
    "## *Next Up*\n",
    "\n",
    "Part B: [Collect Historical Data](PartB-Collect-Historical-Data.ipynb)"
   ]
  }
 ],
 "metadata": {
  "kernelspec": {
   "display_name": "Python 3",
   "language": "python",
   "name": "python3"
  },
  "language_info": {
   "codemirror_mode": {
    "name": "ipython",
    "version": 3
   },
   "file_extension": ".py",
   "mimetype": "text/x-python",
   "name": "python",
   "nbconvert_exporter": "python",
   "pygments_lexer": "ipython3",
   "version": "3.6.6"
  }
 },
 "nbformat": 4,
 "nbformat_minor": 2
}
